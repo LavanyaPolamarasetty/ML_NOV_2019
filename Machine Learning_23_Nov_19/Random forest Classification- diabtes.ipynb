{
 "cells": [
  {
   "cell_type": "code",
   "execution_count": 5,
   "metadata": {},
   "outputs": [
    {
     "data": {
      "text/html": [
       "<div>\n",
       "<style scoped>\n",
       "    .dataframe tbody tr th:only-of-type {\n",
       "        vertical-align: middle;\n",
       "    }\n",
       "\n",
       "    .dataframe tbody tr th {\n",
       "        vertical-align: top;\n",
       "    }\n",
       "\n",
       "    .dataframe thead th {\n",
       "        text-align: right;\n",
       "    }\n",
       "</style>\n",
       "<table border=\"1\" class=\"dataframe\">\n",
       "  <thead>\n",
       "    <tr style=\"text-align: right;\">\n",
       "      <th></th>\n",
       "      <th>Pregnancies</th>\n",
       "      <th>Glucose</th>\n",
       "      <th>BloodPressure</th>\n",
       "      <th>SkinThickness</th>\n",
       "      <th>Insulin</th>\n",
       "      <th>BMI</th>\n",
       "      <th>DiabetesPedigreeFunction</th>\n",
       "      <th>Age</th>\n",
       "      <th>Outcome</th>\n",
       "    </tr>\n",
       "  </thead>\n",
       "  <tbody>\n",
       "    <tr>\n",
       "      <th>0</th>\n",
       "      <td>6</td>\n",
       "      <td>148</td>\n",
       "      <td>72</td>\n",
       "      <td>35</td>\n",
       "      <td>0</td>\n",
       "      <td>33.6</td>\n",
       "      <td>0.627</td>\n",
       "      <td>50</td>\n",
       "      <td>1</td>\n",
       "    </tr>\n",
       "    <tr>\n",
       "      <th>1</th>\n",
       "      <td>1</td>\n",
       "      <td>85</td>\n",
       "      <td>66</td>\n",
       "      <td>29</td>\n",
       "      <td>0</td>\n",
       "      <td>26.6</td>\n",
       "      <td>0.351</td>\n",
       "      <td>31</td>\n",
       "      <td>0</td>\n",
       "    </tr>\n",
       "    <tr>\n",
       "      <th>2</th>\n",
       "      <td>8</td>\n",
       "      <td>183</td>\n",
       "      <td>64</td>\n",
       "      <td>0</td>\n",
       "      <td>0</td>\n",
       "      <td>23.3</td>\n",
       "      <td>0.672</td>\n",
       "      <td>32</td>\n",
       "      <td>1</td>\n",
       "    </tr>\n",
       "  </tbody>\n",
       "</table>\n",
       "</div>"
      ],
      "text/plain": [
       "   Pregnancies  Glucose  BloodPressure  SkinThickness  Insulin   BMI  \\\n",
       "0            6      148             72             35        0  33.6   \n",
       "1            1       85             66             29        0  26.6   \n",
       "2            8      183             64              0        0  23.3   \n",
       "\n",
       "   DiabetesPedigreeFunction  Age  Outcome  \n",
       "0                     0.627   50        1  \n",
       "1                     0.351   31        0  \n",
       "2                     0.672   32        1  "
      ]
     },
     "execution_count": 5,
     "metadata": {},
     "output_type": "execute_result"
    }
   ],
   "source": [
    "import pandas as pd\n",
    "data = pd.read_csv(\"diabetes.csv\")\n",
    "data.head(3)"
   ]
  },
  {
   "cell_type": "code",
   "execution_count": 21,
   "metadata": {},
   "outputs": [
    {
     "data": {
      "text/plain": [
       "17"
      ]
     },
     "execution_count": 21,
     "metadata": {},
     "output_type": "execute_result"
    }
   ],
   "source": [
    "data.Pregnancies.max()"
   ]
  },
  {
   "cell_type": "code",
   "execution_count": 6,
   "metadata": {
    "scrolled": true
   },
   "outputs": [
    {
     "data": {
      "text/plain": [
       "(768, 9)"
      ]
     },
     "execution_count": 6,
     "metadata": {},
     "output_type": "execute_result"
    }
   ],
   "source": [
    "data.shape"
   ]
  },
  {
   "cell_type": "code",
   "execution_count": 7,
   "metadata": {},
   "outputs": [],
   "source": [
    "x = data.drop(\"Outcome\",axis=1)\n",
    "y = data[\"Outcome\"]\n"
   ]
  },
  {
   "cell_type": "code",
   "execution_count": 8,
   "metadata": {},
   "outputs": [],
   "source": [
    "from sklearn.model_selection import train_test_split\n",
    "x_train,x_test,y_train,y_test = train_test_split(x,y,test_size = 0.33, random_state = 1)\n"
   ]
  },
  {
   "cell_type": "code",
   "execution_count": 9,
   "metadata": {},
   "outputs": [
    {
     "name": "stderr",
     "output_type": "stream",
     "text": [
      "C:\\Users\\APSSDC\\Anaconda3\\lib\\site-packages\\sklearn\\ensemble\\forest.py:246: FutureWarning: The default value of n_estimators will change from 10 in version 0.20 to 100 in 0.22.\n",
      "  \"10 in version 0.20 to 100 in 0.22.\", FutureWarning)\n"
     ]
    }
   ],
   "source": [
    "from sklearn.ensemble import RandomForestClassifier\n",
    "rfc = RandomForestClassifier()\n",
    "rfc.fit(x_train,y_train)\n",
    "rfc_predict = rfc.predict(x_test)"
   ]
  },
  {
   "cell_type": "code",
   "execution_count": 10,
   "metadata": {},
   "outputs": [],
   "source": [
    "from sklearn.model_selection import cross_val_score\n",
    "from sklearn.metrics import classification_report,confusion_matrix"
   ]
  },
  {
   "cell_type": "code",
   "execution_count": 11,
   "metadata": {},
   "outputs": [
    {
     "data": {
      "text/plain": [
       "array([0.7137037 , 0.81962963, 0.82333333, 0.65259259, 0.77518519,\n",
       "       0.82888889, 0.81814815, 0.84740741, 0.78423077, 0.78884615])"
      ]
     },
     "execution_count": 11,
     "metadata": {},
     "output_type": "execute_result"
    }
   ],
   "source": [
    "rfc_cv_score = cross_val_score(rfc,x,y,cv = 10,scoring = 'roc_auc')\n",
    "rfc_cv_score"
   ]
  },
  {
   "cell_type": "code",
   "execution_count": 12,
   "metadata": {},
   "outputs": [
    {
     "name": "stdout",
     "output_type": "stream",
     "text": [
      "== confusion matrix ==\n",
      "[[147  15]\n",
      " [ 48  44]]\n",
      "== classification report ==\n",
      "              precision    recall  f1-score   support\n",
      "\n",
      "           0       0.75      0.91      0.82       162\n",
      "           1       0.75      0.48      0.58        92\n",
      "\n",
      "   micro avg       0.75      0.75      0.75       254\n",
      "   macro avg       0.75      0.69      0.70       254\n",
      "weighted avg       0.75      0.75      0.74       254\n",
      "\n",
      "== all AUC scrore == \n",
      "[0.7137037  0.81962963 0.82333333 0.65259259 0.77518519 0.82888889\n",
      " 0.81814815 0.84740741 0.78423077 0.78884615]\n",
      "== Mean AUC score == \n",
      "mean AUC score - random Forest :  0.7851965811965812\n"
     ]
    }
   ],
   "source": [
    "print(\"== confusion matrix ==\")\n",
    "print(confusion_matrix(y_test,rfc_predict))\n",
    "print(\"== classification report ==\")\n",
    "print(classification_report(y_test,rfc_predict))\n",
    "print(\"== all AUC scrore == \")\n",
    "print(rfc_cv_score)\n",
    "print(\"== Mean AUC score == \")\n",
    "print(\"mean AUC score - random Forest : \", rfc_cv_score.mean())"
   ]
  },
  {
   "cell_type": "code",
   "execution_count": 14,
   "metadata": {},
   "outputs": [
    {
     "name": "stdout",
     "output_type": "stream",
     "text": [
      "Fitting 3 folds for each of 100 candidates, totalling 300 fits\n"
     ]
    },
    {
     "name": "stderr",
     "output_type": "stream",
     "text": [
      "[Parallel(n_jobs=-1)]: Using backend LokyBackend with 4 concurrent workers.\n",
      "[Parallel(n_jobs=-1)]: Done  33 tasks      | elapsed:   23.9s\n",
      "[Parallel(n_jobs=-1)]: Done 154 tasks      | elapsed:  1.4min\n",
      "[Parallel(n_jobs=-1)]: Done 300 out of 300 | elapsed:  2.6min finished\n"
     ]
    },
    {
     "name": "stdout",
     "output_type": "stream",
     "text": [
      "{'n_estimators': 400, 'max_features': 'sqrt', 'max_depth': 300}\n"
     ]
    }
   ],
   "source": [
    "import numpy as np\n",
    "from sklearn.model_selection import RandomizedSearchCV\n",
    "n_estimators = [int(x) for x in np.linspace(start = 200, stop = 2000 , num=10)]\n",
    "max_features = [\"auto\",\"sqrt\"]\n",
    "max_features\n",
    "max_depth = [int(x) for x in np.linspace(100,500, num = 11)]\n",
    "max_depth.append(None)\n",
    "\n",
    "random_grid = {\"n_estimators\": n_estimators, \"max_features\" :max_features, \"max_depth\": max_depth }\n",
    "rfc_random = RandomizedSearchCV(estimator = rfc , param_distributions= random_grid ,n_iter=100, verbose=2, cv=3,random_state=42,n_jobs=-1)\n",
    "rfc_random.fit(x_train,y_train)\n",
    "print(rfc_random.best_params_)"
   ]
  },
  {
   "cell_type": "code",
   "execution_count": 18,
   "metadata": {},
   "outputs": [
    {
     "name": "stdout",
     "output_type": "stream",
     "text": [
      "== confution matrix ==\n",
      "[[147  15]\n",
      " [ 34  58]]\n",
      "== Classification Report == \n",
      "              precision    recall  f1-score   support\n",
      "\n",
      "           0       0.81      0.91      0.86       162\n",
      "           1       0.79      0.63      0.70        92\n",
      "\n",
      "   micro avg       0.81      0.81      0.81       254\n",
      "   macro avg       0.80      0.77      0.78       254\n",
      "weighted avg       0.81      0.81      0.80       254\n",
      "\n",
      "== all AUC score ==\n",
      "[0.78       0.82814815 0.82555556 0.73518519 0.81296296 0.85703704\n",
      " 0.86777778 0.9062963  0.80769231 0.86384615]\n",
      "== Mean AUC Score ==\n",
      "Mean AUC score - random forest : 0.8284501424501423\n"
     ]
    }
   ],
   "source": [
    "rfc = RandomForestClassifier(n_estimators = 400, max_depth = 300, max_features = \"sqrt\")\n",
    "rfc.fit(x_train,y_train)\n",
    "rfc_predict = rfc.predict(x_test)\n",
    "rfc_cv_score = cross_val_score(rfc,x,y,cv=10,scoring = 'roc_auc')\n",
    "print(\"== confution matrix ==\")\n",
    "print(confusion_matrix(y_test,rfc_predict))\n",
    "print(\"== Classification Report == \")\n",
    "print(classification_report(y_test,rfc_predict))\n",
    "print(\"== all AUC score ==\")\n",
    "print(rfc_cv_score)\n",
    "print(\"== Mean AUC Score ==\")\n",
    "print(\"Mean AUC score - random forest :\", rfc_cv_score.mean())\n"
   ]
  },
  {
   "cell_type": "code",
   "execution_count": 25,
   "metadata": {},
   "outputs": [
    {
     "data": {
      "text/plain": [
       "array([1], dtype=int64)"
      ]
     },
     "execution_count": 25,
     "metadata": {},
     "output_type": "execute_result"
    }
   ],
   "source": [
    "y_pred = rfc.predict([[6,148,72,35,0,33.6,0.627,50]])\n",
    "y_pred"
   ]
  },
  {
   "cell_type": "code",
   "execution_count": 26,
   "metadata": {},
   "outputs": [
    {
     "data": {
      "text/plain": [
       "array([0], dtype=int64)"
      ]
     },
     "execution_count": 26,
     "metadata": {},
     "output_type": "execute_result"
    }
   ],
   "source": [
    " rfc.predict([[1,85,66,29,0,26.6,0.351,31]])"
   ]
  },
  {
   "cell_type": "markdown",
   "metadata": {},
   "source": [
    "# Voting Classifiers"
   ]
  },
  {
   "cell_type": "code",
   "execution_count": 28,
   "metadata": {},
   "outputs": [],
   "source": [
    "from sklearn.datasets import make_moons\n",
    "from sklearn.linear_model import LogisticRegression\n",
    "from sklearn.ensemble import VotingClassifier"
   ]
  },
  {
   "cell_type": "code",
   "execution_count": 46,
   "metadata": {},
   "outputs": [
    {
     "data": {
      "text/plain": [
       "array([[-3.22140161e-02,  9.91183435e-01],\n",
       "       [ 1.89369937e+00, -1.43260983e-01],\n",
       "       [ 9.37139867e-01,  2.60605533e-02],\n",
       "       [-2.09992548e-03,  7.37796614e-02],\n",
       "       [ 9.30798303e-01, -5.19403855e-01],\n",
       "       [ 2.01988692e+00,  3.93408264e-01],\n",
       "       [ 5.44042634e-01,  5.96292060e-01],\n",
       "       [ 9.28075755e-01, -6.24226911e-01],\n",
       "       [ 1.74199561e-03,  3.19609386e-01],\n",
       "       [ 1.84154522e+00,  3.03519978e-01],\n",
       "       [-1.30194649e-01,  4.61523379e-01],\n",
       "       [ 1.95220698e+00, -1.21516672e-01],\n",
       "       [ 1.36130855e+00, -6.10645836e-01],\n",
       "       [ 9.48854620e-01,  9.69104083e-01],\n",
       "       [ 6.84138531e-01,  4.90457831e-01],\n",
       "       [-3.55948639e-01,  1.02909238e+00],\n",
       "       [ 2.30422245e-01,  1.11016938e+00],\n",
       "       [ 1.68179520e-01,  9.11612785e-01],\n",
       "       [-3.77758742e-01,  8.16951549e-01],\n",
       "       [ 1.01735851e+00,  5.21809968e-01],\n",
       "       [-7.61970461e-01,  5.16251552e-01],\n",
       "       [ 3.72609000e-01, -1.95418424e-01],\n",
       "       [ 8.33035136e-01,  4.72017740e-01],\n",
       "       [ 7.41318027e-01, -4.66926176e-01],\n",
       "       [-8.12672471e-01,  6.21062359e-02],\n",
       "       [-8.72287428e-01, -1.59446492e-01],\n",
       "       [ 7.66384507e-01,  3.43897712e-01],\n",
       "       [ 2.09068584e+00,  2.38541265e-01],\n",
       "       [ 1.69117231e+00, -1.07063009e-01],\n",
       "       [ 1.28972971e+00, -3.00274672e-01],\n",
       "       [ 3.36316802e-01, -1.21930601e-01],\n",
       "       [ 1.20075555e+00, -7.37085245e-01],\n",
       "       [ 1.85154771e+00, -2.83068193e-02],\n",
       "       [ 5.07344380e-01, -3.69596817e-01],\n",
       "       [ 3.53935925e-02,  5.01207225e-01],\n",
       "       [-1.66462110e-01,  9.94666546e-01],\n",
       "       [ 2.64453775e-01,  9.57520771e-01],\n",
       "       [ 1.27147333e-01,  1.85955213e-01],\n",
       "       [ 3.65917583e-02, -2.35526406e-02],\n",
       "       [ 9.96877552e-01, -5.62615939e-01],\n",
       "       [ 1.25898341e+00,  9.45720361e-03],\n",
       "       [ 4.40147205e-01, -2.70961540e-01],\n",
       "       [-8.88562378e-01,  2.40224971e-01],\n",
       "       [-9.70484339e-01,  3.13688900e-01],\n",
       "       [ 9.96941259e-01,  3.15739580e-01],\n",
       "       [ 7.51714957e-01,  1.10267533e+00],\n",
       "       [ 5.69671863e-01,  1.22924931e+00],\n",
       "       [-6.03472718e-01,  6.37200458e-01],\n",
       "       [-8.93050457e-01,  4.05065271e-01],\n",
       "       [ 8.61804797e-01,  2.34433125e-01],\n",
       "       [ 1.63791515e+00,  1.11272143e-03],\n",
       "       [-1.09779924e-01, -1.40211184e-01],\n",
       "       [ 8.60776122e-01,  2.23608288e-01],\n",
       "       [-5.42791760e-01,  7.49431605e-01],\n",
       "       [ 4.93322638e-02,  6.30807290e-01],\n",
       "       [ 9.76814019e-02,  3.30425533e-01],\n",
       "       [ 6.44843960e-01,  8.15619163e-01],\n",
       "       [-4.22571849e-01,  5.16716435e-01],\n",
       "       [ 1.59684895e-01,  1.15877547e+00],\n",
       "       [-4.94178660e-02,  4.66953050e-01],\n",
       "       [ 7.18965237e-01,  6.76279391e-01],\n",
       "       [-3.88530911e-01,  9.53662895e-01],\n",
       "       [ 3.44394132e-01, -2.26407095e-01],\n",
       "       [ 1.13181276e-01, -1.56769318e-01],\n",
       "       [ 9.99439947e-01, -6.29304733e-01],\n",
       "       [ 1.35918397e+00, -3.25124965e-01],\n",
       "       [-3.05340957e-01,  9.24092937e-01],\n",
       "       [ 1.57915233e+00, -4.75008710e-01],\n",
       "       [ 6.83967654e-01,  6.79222595e-01],\n",
       "       [ 1.99076195e+00, -3.98944019e-01],\n",
       "       [ 2.95560495e-01,  8.94053362e-01],\n",
       "       [-6.17281700e-01,  9.31142421e-01],\n",
       "       [-9.41153792e-01,  3.62452210e-02],\n",
       "       [ 2.00738040e+00,  2.47687160e-01],\n",
       "       [ 2.07185930e+00,  4.49446699e-01],\n",
       "       [ 5.04999815e-01, -5.58474154e-01],\n",
       "       [ 3.15588923e-01,  1.03718731e+00],\n",
       "       [ 1.84414652e+00,  3.21947653e-01],\n",
       "       [ 7.39482387e-01, -4.67183109e-01],\n",
       "       [ 1.22363430e+00, -4.89109192e-01],\n",
       "       [-8.48888235e-02,  1.12240621e+00],\n",
       "       [-6.40051191e-01,  8.75271530e-01],\n",
       "       [ 1.34741041e+00, -3.10663335e-01],\n",
       "       [-9.28476405e-01,  3.48296429e-01],\n",
       "       [-8.64998057e-01,  7.08953126e-02],\n",
       "       [ 2.26409830e-01, -1.06346336e-01],\n",
       "       [ 1.62968598e-01, -2.93671159e-02],\n",
       "       [ 7.25904958e-01,  4.88650919e-01],\n",
       "       [ 1.72219515e+00, -1.75135349e-01],\n",
       "       [ 6.11556827e-01, -2.87993823e-01],\n",
       "       [ 1.69297576e+00, -3.10269601e-01],\n",
       "       [-7.47011856e-01,  6.85844330e-01],\n",
       "       [ 2.62114980e-01,  8.80481626e-01],\n",
       "       [ 1.44755381e+00, -5.82146919e-01],\n",
       "       [ 1.00423181e+00,  5.71970714e-01],\n",
       "       [ 1.84050613e+00,  4.48280521e-01],\n",
       "       [ 3.78042472e-01, -5.19560247e-01],\n",
       "       [ 6.64712241e-01, -3.50798561e-01],\n",
       "       [-1.15514518e+00,  2.75494756e-01],\n",
       "       [-1.12293670e+00,  2.49627654e-01]])"
      ]
     },
     "execution_count": 46,
     "metadata": {},
     "output_type": "execute_result"
    }
   ],
   "source": [
    "log_clf = LogisticRegression()\n",
    "rnd_clf = RandomForestClassifier()\n",
    "x,y = make_moons(n_samples=100, noise= 0.15, random_state=0)\n",
    "x"
   ]
  },
  {
   "cell_type": "code",
   "execution_count": 47,
   "metadata": {},
   "outputs": [],
   "source": [
    "from sklearn.model_selection import train_test_split\n",
    "x_train,x_test,y_train,y_test = train_test_split(x,y, test_size = 0.2, random_state = 1)"
   ]
  },
  {
   "cell_type": "code",
   "execution_count": 49,
   "metadata": {},
   "outputs": [
    {
     "name": "stderr",
     "output_type": "stream",
     "text": [
      "C:\\Users\\APSSDC\\Anaconda3\\lib\\site-packages\\sklearn\\linear_model\\logistic.py:433: FutureWarning: Default solver will be changed to 'lbfgs' in 0.22. Specify a solver to silence this warning.\n",
      "  FutureWarning)\n",
      "C:\\Users\\APSSDC\\Anaconda3\\lib\\site-packages\\sklearn\\ensemble\\forest.py:246: FutureWarning: The default value of n_estimators will change from 10 in version 0.20 to 100 in 0.22.\n",
      "  \"10 in version 0.20 to 100 in 0.22.\", FutureWarning)\n"
     ]
    },
    {
     "data": {
      "text/plain": [
       "VotingClassifier(estimators=[('lr', LogisticRegression(C=1.0, class_weight=None, dual=False, fit_intercept=True,\n",
       "          intercept_scaling=1, max_iter=100, multi_class='warn',\n",
       "          n_jobs=None, penalty='l2', random_state=None, solver='warn',\n",
       "          tol=0.0001, verbose=0, warm_start=False)), ('rf', RandomFo...obs=None,\n",
       "            oob_score=False, random_state=None, verbose=0,\n",
       "            warm_start=False))],\n",
       "         flatten_transform=None, n_jobs=None, voting='hard', weights=None)"
      ]
     },
     "execution_count": 49,
     "metadata": {},
     "output_type": "execute_result"
    }
   ],
   "source": [
    "voting_clf = VotingClassifier(estimators=[('lr',log_clf),('rf',rnd_clf)],voting = \"hard\")\n",
    "voting_clf.fit(x_train,y_train)"
   ]
  },
  {
   "cell_type": "code",
   "execution_count": 50,
   "metadata": {},
   "outputs": [
    {
     "name": "stdout",
     "output_type": "stream",
     "text": [
      "LogisticRegression 0.85\n",
      "RandomForestClassifier 1.0\n",
      "VotingClassifier 0.95\n"
     ]
    },
    {
     "name": "stderr",
     "output_type": "stream",
     "text": [
      "C:\\Users\\APSSDC\\Anaconda3\\lib\\site-packages\\sklearn\\linear_model\\logistic.py:433: FutureWarning: Default solver will be changed to 'lbfgs' in 0.22. Specify a solver to silence this warning.\n",
      "  FutureWarning)\n",
      "C:\\Users\\APSSDC\\Anaconda3\\lib\\site-packages\\sklearn\\ensemble\\forest.py:246: FutureWarning: The default value of n_estimators will change from 10 in version 0.20 to 100 in 0.22.\n",
      "  \"10 in version 0.20 to 100 in 0.22.\", FutureWarning)\n",
      "C:\\Users\\APSSDC\\Anaconda3\\lib\\site-packages\\sklearn\\linear_model\\logistic.py:433: FutureWarning: Default solver will be changed to 'lbfgs' in 0.22. Specify a solver to silence this warning.\n",
      "  FutureWarning)\n"
     ]
    }
   ],
   "source": [
    "from sklearn.metrics import accuracy_score\n",
    "for clf in (log_clf, rnd_clf, voting_clf):\n",
    "    clf.fit(x_train,y_train)\n",
    "    y_pred = clf.predict(x_test)\n",
    "    print(clf.__class__.__name__,accuracy_score(y_test,y_pred))"
   ]
  },
  {
   "cell_type": "markdown",
   "metadata": {},
   "source": [
    "# Bagging Classicifier"
   ]
  },
  {
   "cell_type": "code",
   "execution_count": 61,
   "metadata": {},
   "outputs": [
    {
     "data": {
      "text/plain": [
       "BaggingClassifier(base_estimator=DecisionTreeClassifier(class_weight=None, criterion='gini', max_depth=None,\n",
       "            max_features=None, max_leaf_nodes=None,\n",
       "            min_impurity_decrease=0.0, min_impurity_split=None,\n",
       "            min_samples_leaf=1, min_samples_split=2,\n",
       "            min_weight_fraction_leaf=0.0, presort=False, random_state=None,\n",
       "            splitter='best'),\n",
       "         bootstrap=True, bootstrap_features=False, max_features=1.0,\n",
       "         max_samples=10, n_estimators=500, n_jobs=-1, oob_score=False,\n",
       "         random_state=None, verbose=0, warm_start=False)"
      ]
     },
     "execution_count": 61,
     "metadata": {},
     "output_type": "execute_result"
    }
   ],
   "source": [
    "from sklearn.ensemble import BaggingClassifier\n",
    "from sklearn.tree import DecisionTreeClassifier\n",
    "bag_clf = BaggingClassifier(DecisionTreeClassifier(),n_estimators=500,max_samples=10,bootstrap=True,n_jobs=-1)\n",
    "bag_clf"
   ]
  },
  {
   "cell_type": "code",
   "execution_count": 62,
   "metadata": {},
   "outputs": [
    {
     "data": {
      "text/plain": [
       "array([0, 0, 1, 0, 1, 0, 0, 1, 1, 1, 0, 1, 0, 1, 1, 1, 1, 0, 1, 0],\n",
       "      dtype=int64)"
      ]
     },
     "execution_count": 62,
     "metadata": {},
     "output_type": "execute_result"
    }
   ],
   "source": [
    "bag_clf.fit(x_train,y_train)\n",
    "y_pred = bag_clf.predict(x_test)\n",
    "y_pred"
   ]
  },
  {
   "cell_type": "code",
   "execution_count": 63,
   "metadata": {},
   "outputs": [
    {
     "ename": "AttributeError",
     "evalue": "'BaggingClassifier' object has no attribute 'oob_score_'",
     "output_type": "error",
     "traceback": [
      "\u001b[1;31m---------------------------------------------------------------------------\u001b[0m",
      "\u001b[1;31mAttributeError\u001b[0m                            Traceback (most recent call last)",
      "\u001b[1;32m<ipython-input-63-31ff47ec4cb2>\u001b[0m in \u001b[0;36m<module>\u001b[1;34m\u001b[0m\n\u001b[1;32m----> 1\u001b[1;33m \u001b[0mbag_clf\u001b[0m\u001b[1;33m.\u001b[0m\u001b[0moob_score_\u001b[0m\u001b[1;33m\u001b[0m\u001b[1;33m\u001b[0m\u001b[0m\n\u001b[0m",
      "\u001b[1;31mAttributeError\u001b[0m: 'BaggingClassifier' object has no attribute 'oob_score_'"
     ]
    }
   ],
   "source": [
    "bag_clf.oob_score_"
   ]
  },
  {
   "cell_type": "code",
   "execution_count": null,
   "metadata": {},
   "outputs": [],
   "source": []
  }
 ],
 "metadata": {
  "kernelspec": {
   "display_name": "Python 3",
   "language": "python",
   "name": "python3"
  },
  "language_info": {
   "codemirror_mode": {
    "name": "ipython",
    "version": 3
   },
   "file_extension": ".py",
   "mimetype": "text/x-python",
   "name": "python",
   "nbconvert_exporter": "python",
   "pygments_lexer": "ipython3",
   "version": "3.7.3"
  }
 },
 "nbformat": 4,
 "nbformat_minor": 2
}
