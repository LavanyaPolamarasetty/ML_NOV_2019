{
 "cells": [
  {
   "cell_type": "code",
   "execution_count": 1,
   "metadata": {},
   "outputs": [],
   "source": [
    "import numpy as np\n",
    "import matplotlib.pyplot as plt"
   ]
  },
  {
   "cell_type": "code",
   "execution_count": 18,
   "metadata": {},
   "outputs": [
    {
     "data": {
      "text/plain": [
       "array([[0.85291301],\n",
       "       [0.15363893],\n",
       "       [0.23133491],\n",
       "       [0.93575933],\n",
       "       [0.43194031],\n",
       "       [0.80826808],\n",
       "       [0.73771226],\n",
       "       [0.75552015],\n",
       "       [0.50225431],\n",
       "       [0.23888653],\n",
       "       [0.56514176],\n",
       "       [0.80375958],\n",
       "       [0.8508141 ],\n",
       "       [0.21957941],\n",
       "       [0.52329782],\n",
       "       [0.43954002],\n",
       "       [0.83323053],\n",
       "       [0.17746573],\n",
       "       [0.81775856],\n",
       "       [0.83149494],\n",
       "       [0.97526015],\n",
       "       [0.10075847],\n",
       "       [0.3847262 ],\n",
       "       [0.9160781 ],\n",
       "       [0.55881974],\n",
       "       [0.12669823],\n",
       "       [0.5242649 ],\n",
       "       [0.28798768],\n",
       "       [0.30742067],\n",
       "       [0.91318478],\n",
       "       [0.96021914],\n",
       "       [0.73088693],\n",
       "       [0.21096682],\n",
       "       [0.31104199],\n",
       "       [0.76470218],\n",
       "       [0.79635607],\n",
       "       [0.86376708],\n",
       "       [0.31686306],\n",
       "       [0.43479484],\n",
       "       [0.77824683],\n",
       "       [0.93504534],\n",
       "       [0.22015509],\n",
       "       [0.30736376],\n",
       "       [0.22960455],\n",
       "       [0.12590116],\n",
       "       [0.64946969],\n",
       "       [0.41789686],\n",
       "       [0.73747076],\n",
       "       [0.88904925],\n",
       "       [0.41523923],\n",
       "       [0.79546001],\n",
       "       [0.10818174],\n",
       "       [0.87863256],\n",
       "       [0.37750251],\n",
       "       [0.7745333 ],\n",
       "       [0.72192664],\n",
       "       [0.0717384 ],\n",
       "       [0.22373028],\n",
       "       [0.04800856],\n",
       "       [0.82849707],\n",
       "       [0.50944499],\n",
       "       [0.36558976],\n",
       "       [0.14824832],\n",
       "       [0.68616391],\n",
       "       [0.33060183],\n",
       "       [0.90836508],\n",
       "       [0.33127584],\n",
       "       [0.4871253 ],\n",
       "       [0.41026312],\n",
       "       [0.33659277],\n",
       "       [0.78757301],\n",
       "       [0.92551924],\n",
       "       [0.33390798],\n",
       "       [0.55638075],\n",
       "       [0.67988883],\n",
       "       [0.03027186],\n",
       "       [0.27174965],\n",
       "       [0.4010157 ],\n",
       "       [0.70150215],\n",
       "       [0.57273947],\n",
       "       [0.3874902 ],\n",
       "       [0.54243498],\n",
       "       [0.53884753],\n",
       "       [0.55661445],\n",
       "       [0.1421102 ],\n",
       "       [0.97000877],\n",
       "       [0.41366094],\n",
       "       [0.27886534],\n",
       "       [0.6883473 ],\n",
       "       [0.72360758],\n",
       "       [0.96423726],\n",
       "       [0.01273304],\n",
       "       [0.70316052],\n",
       "       [0.89961745],\n",
       "       [0.63156844],\n",
       "       [0.81737684],\n",
       "       [0.39721874],\n",
       "       [0.35033111],\n",
       "       [0.19332645],\n",
       "       [0.59038203]])"
      ]
     },
     "execution_count": 18,
     "metadata": {},
     "output_type": "execute_result"
    }
   ],
   "source": [
    "x=np.random.rand(100,1)\n",
    "x"
   ]
  },
  {
   "cell_type": "code",
   "execution_count": 28,
   "metadata": {},
   "outputs": [
    {
     "data": {
      "text/plain": [
       "array([[6.44424568],\n",
       "       [4.02000315],\n",
       "       [5.95140183],\n",
       "       [6.11429864],\n",
       "       [3.29194743],\n",
       "       [4.62803044],\n",
       "       [7.9104534 ],\n",
       "       [5.99266824],\n",
       "       [6.13679857],\n",
       "       [3.99313363],\n",
       "       [4.41262089],\n",
       "       [6.991181  ],\n",
       "       [7.62825127],\n",
       "       [4.71135411],\n",
       "       [4.377702  ],\n",
       "       [6.6421328 ],\n",
       "       [6.18888247],\n",
       "       [6.1007309 ],\n",
       "       [7.77518165],\n",
       "       [5.14449457],\n",
       "       [7.47267504],\n",
       "       [3.62055609],\n",
       "       [5.56926049],\n",
       "       [6.82399178],\n",
       "       [6.4235134 ],\n",
       "       [5.76530727],\n",
       "       [6.49583884],\n",
       "       [3.89593947],\n",
       "       [3.34780222],\n",
       "       [6.13207108],\n",
       "       [7.71240807],\n",
       "       [3.6231292 ],\n",
       "       [4.29607921],\n",
       "       [4.65999266],\n",
       "       [7.15424551],\n",
       "       [6.03805207],\n",
       "       [8.1409788 ],\n",
       "       [3.64159938],\n",
       "       [6.33348029],\n",
       "       [5.58294527],\n",
       "       [6.19329152],\n",
       "       [4.82624237],\n",
       "       [5.00852206],\n",
       "       [4.72354085],\n",
       "       [5.32872479],\n",
       "       [5.3794222 ],\n",
       "       [4.08682607],\n",
       "       [5.62201708],\n",
       "       [7.49065962],\n",
       "       [4.60953154],\n",
       "       [5.45426123],\n",
       "       [3.00527796],\n",
       "       [7.85196656],\n",
       "       [5.66226025],\n",
       "       [5.86745329],\n",
       "       [6.40102415],\n",
       "       [4.12241214],\n",
       "       [4.5193866 ],\n",
       "       [2.92003723],\n",
       "       [6.50953128],\n",
       "       [5.64186364],\n",
       "       [4.53248704],\n",
       "       [3.10887912],\n",
       "       [5.69443719],\n",
       "       [5.34199104],\n",
       "       [6.11245584],\n",
       "       [4.45141677],\n",
       "       [4.82815413],\n",
       "       [5.95634787],\n",
       "       [4.50915205],\n",
       "       [3.7695367 ],\n",
       "       [8.29800701],\n",
       "       [5.64494402],\n",
       "       [7.03156482],\n",
       "       [5.06623273],\n",
       "       [3.81448951],\n",
       "       [3.28556744],\n",
       "       [3.84872086],\n",
       "       [5.46762016],\n",
       "       [4.45654858],\n",
       "       [4.44963415],\n",
       "       [6.70569375],\n",
       "       [7.57725235],\n",
       "       [7.17629433],\n",
       "       [3.22983649],\n",
       "       [6.42843128],\n",
       "       [4.10076883],\n",
       "       [4.97911619],\n",
       "       [6.14165274],\n",
       "       [6.35579389],\n",
       "       [7.792295  ],\n",
       "       [4.23754717],\n",
       "       [8.27682577],\n",
       "       [6.74418895],\n",
       "       [5.92059583],\n",
       "       [7.08119687],\n",
       "       [4.73760836],\n",
       "       [4.80857157],\n",
       "       [5.93356131],\n",
       "       [8.01153299]])"
      ]
     },
     "execution_count": 28,
     "metadata": {},
     "output_type": "execute_result"
    }
   ],
   "source": [
    "y = 4+3*x + np.random.randn(100,1)\n",
    "y"
   ]
  },
  {
   "cell_type": "code",
   "execution_count": 45,
   "metadata": {},
   "outputs": [
    {
     "data": {
      "text/plain": [
       "[<matplotlib.lines.Line2D at 0x1e7a3f48588>]"
      ]
     },
     "execution_count": 45,
     "metadata": {},
     "output_type": "execute_result"
    },
    {
     "data": {
      "image/png": "[encoded data removed]",
      "text/plain": [
       "<Figure size 432x288 with 1 Axes>"
      ]
     },
     "metadata": {
      "needs_background": "light"
     },
     "output_type": "display_data"
    }
   ],
   "source": [
    "plt.plot(x,y)"
   ]
  },
  {
   "cell_type": "code",
   "execution_count": 29,
   "metadata": {},
   "outputs": [
    {
     "data": {
      "text/plain": [
       "array([[1.        , 0.85291301],\n",
       "       [1.        , 0.15363893],\n",
       "       [1.        , 0.23133491],\n",
       "       [1.        , 0.93575933],\n",
       "       [1.        , 0.43194031],\n",
       "       [1.        , 0.80826808],\n",
       "       [1.        , 0.73771226],\n",
       "       [1.        , 0.75552015],\n",
       "       [1.        , 0.50225431],\n",
       "       [1.        , 0.23888653],\n",
       "       [1.        , 0.56514176],\n",
       "       [1.        , 0.80375958],\n",
       "       [1.        , 0.8508141 ],\n",
       "       [1.        , 0.21957941],\n",
       "       [1.        , 0.52329782],\n",
       "       [1.        , 0.43954002],\n",
       "       [1.        , 0.83323053],\n",
       "       [1.        , 0.17746573],\n",
       "       [1.        , 0.81775856],\n",
       "       [1.        , 0.83149494],\n",
       "       [1.        , 0.97526015],\n",
       "       [1.        , 0.10075847],\n",
       "       [1.        , 0.3847262 ],\n",
       "       [1.        , 0.9160781 ],\n",
       "       [1.        , 0.55881974],\n",
       "       [1.        , 0.12669823],\n",
       "       [1.        , 0.5242649 ],\n",
       "       [1.        , 0.28798768],\n",
       "       [1.        , 0.30742067],\n",
       "       [1.        , 0.91318478],\n",
       "       [1.        , 0.96021914],\n",
       "       [1.        , 0.73088693],\n",
       "       [1.        , 0.21096682],\n",
       "       [1.        , 0.31104199],\n",
       "       [1.        , 0.76470218],\n",
       "       [1.        , 0.79635607],\n",
       "       [1.        , 0.86376708],\n",
       "       [1.        , 0.31686306],\n",
       "       [1.        , 0.43479484],\n",
       "       [1.        , 0.77824683],\n",
       "       [1.        , 0.93504534],\n",
       "       [1.        , 0.22015509],\n",
       "       [1.        , 0.30736376],\n",
       "       [1.        , 0.22960455],\n",
       "       [1.        , 0.12590116],\n",
       "       [1.        , 0.64946969],\n",
       "       [1.        , 0.41789686],\n",
       "       [1.        , 0.73747076],\n",
       "       [1.        , 0.88904925],\n",
       "       [1.        , 0.41523923],\n",
       "       [1.        , 0.79546001],\n",
       "       [1.        , 0.10818174],\n",
       "       [1.        , 0.87863256],\n",
       "       [1.        , 0.37750251],\n",
       "       [1.        , 0.7745333 ],\n",
       "       [1.        , 0.72192664],\n",
       "       [1.        , 0.0717384 ],\n",
       "       [1.        , 0.22373028],\n",
       "       [1.        , 0.04800856],\n",
       "       [1.        , 0.82849707],\n",
       "       [1.        , 0.50944499],\n",
       "       [1.        , 0.36558976],\n",
       "       [1.        , 0.14824832],\n",
       "       [1.        , 0.68616391],\n",
       "       [1.        , 0.33060183],\n",
       "       [1.        , 0.90836508],\n",
       "       [1.        , 0.33127584],\n",
       "       [1.        , 0.4871253 ],\n",
       "       [1.        , 0.41026312],\n",
       "       [1.        , 0.33659277],\n",
       "       [1.        , 0.78757301],\n",
       "       [1.        , 0.92551924],\n",
       "       [1.        , 0.33390798],\n",
       "       [1.        , 0.55638075],\n",
       "       [1.        , 0.67988883],\n",
       "       [1.        , 0.03027186],\n",
       "       [1.        , 0.27174965],\n",
       "       [1.        , 0.4010157 ],\n",
       "       [1.        , 0.70150215],\n",
       "       [1.        , 0.57273947],\n",
       "       [1.        , 0.3874902 ],\n",
       "       [1.        , 0.54243498],\n",
       "       [1.        , 0.53884753],\n",
       "       [1.        , 0.55661445],\n",
       "       [1.        , 0.1421102 ],\n",
       "       [1.        , 0.97000877],\n",
       "       [1.        , 0.41366094],\n",
       "       [1.        , 0.27886534],\n",
       "       [1.        , 0.6883473 ],\n",
       "       [1.        , 0.72360758],\n",
       "       [1.        , 0.96423726],\n",
       "       [1.        , 0.01273304],\n",
       "       [1.        , 0.70316052],\n",
       "       [1.        , 0.89961745],\n",
       "       [1.        , 0.63156844],\n",
       "       [1.        , 0.81737684],\n",
       "       [1.        , 0.39721874],\n",
       "       [1.        , 0.35033111],\n",
       "       [1.        , 0.19332645],\n",
       "       [1.        , 0.59038203]])"
      ]
     },
     "execution_count": 29,
     "metadata": {},
     "output_type": "execute_result"
    }
   ],
   "source": [
    "xb =np.c_[np.ones((100,1)),x] # add x0 =1 in each instance\n",
    "xb"
   ]
  },
  {
   "cell_type": "code",
   "execution_count": 46,
   "metadata": {},
   "outputs": [
    {
     "data": {
      "text/plain": [
       "array([[3.73307494],\n",
       "       [3.39572949]])"
      ]
     },
     "execution_count": 46,
     "metadata": {},
     "output_type": "execute_result"
    }
   ],
   "source": [
    "theta = np.linalg.inv(xb.T.dot(xb)).dot(xb.T).dot(y)\n",
    "theta\n"
   ]
  },
  {
   "cell_type": "code",
   "execution_count": 20,
   "metadata": {},
   "outputs": [
    {
     "data": {
      "text/plain": [
       "array([[0],\n",
       "       [2]])"
      ]
     },
     "execution_count": 20,
     "metadata": {},
     "output_type": "execute_result"
    }
   ],
   "source": [
    "xnew = np.array([[0],[2]])\n",
    "xnew"
   ]
  },
  {
   "cell_type": "code",
   "execution_count": 26,
   "metadata": {},
   "outputs": [
    {
     "data": {
      "text/plain": [
       "array([[1., 0.],\n",
       "       [1., 2.]])"
      ]
     },
     "execution_count": 26,
     "metadata": {},
     "output_type": "execute_result"
    }
   ],
   "source": [
    "xnew_b =np.c_[np.ones((2,1)),xnew]\n",
    "xnew_b"
   ]
  },
  {
   "cell_type": "code",
   "execution_count": 33,
   "metadata": {},
   "outputs": [
    {
     "data": {
      "text/plain": [
       "array([[ 3.73307494],\n",
       "       [10.52453392]])"
      ]
     },
     "execution_count": 33,
     "metadata": {},
     "output_type": "execute_result"
    }
   ],
   "source": [
    "y_predict = xnew_b.dot(theta)\n",
    "y_predict"
   ]
  },
  {
   "cell_type": "code",
   "execution_count": 35,
   "metadata": {},
   "outputs": [
    {
     "data": {
      "text/plain": [
       "[<matplotlib.lines.Line2D at 0x1e7a2b98dd8>]"
      ]
     },
     "execution_count": 35,
     "metadata": {},
     "output_type": "execute_result"
    },
    {
     "data": {
      "image/png": "[encoded data removed]",
      "text/plain": [
       "<Figure size 432x288 with 1 Axes>"
      ]
     },
     "metadata": {
      "needs_background": "light"
     },
     "output_type": "display_data"
    }
   ],
   "source": [
    "plt.plot(y_predict,theta)"
   ]
  },
  {
   "cell_type": "code",
   "execution_count": 40,
   "metadata": {},
   "outputs": [
    {
     "data": {
      "text/plain": [
       "(array([3.73307494]), array([[3.39572949]]))"
      ]
     },
     "execution_count": 40,
     "metadata": {},
     "output_type": "execute_result"
    }
   ],
   "source": [
    "from sklearn.linear_model import LinearRegression\n",
    "lin_reg = LinearRegression()\n",
    "lin_reg.fit(x,y)\n",
    "lin_reg.intercept_,lin_reg.coef_"
   ]
  },
  {
   "cell_type": "code",
   "execution_count": 41,
   "metadata": {},
   "outputs": [
    {
     "data": {
      "text/plain": [
       "array([[ 3.73307494],\n",
       "       [10.52453392]])"
      ]
     },
     "execution_count": 41,
     "metadata": {},
     "output_type": "execute_result"
    }
   ],
   "source": [
    "lin_reg.predict(xnew)"
   ]
  },
  {
   "cell_type": "code",
   "execution_count": 48,
   "metadata": {},
   "outputs": [],
   "source": [
    "eta = 0.1\n",
    "n_iter = 1000\n",
    "m=100\n",
    "theta = np.random.randn(2,1)"
   ]
  },
  {
   "cell_type": "code",
   "execution_count": 49,
   "metadata": {},
   "outputs": [],
   "source": [
    "for ite in range(n_iter):\n",
    "    gradients = 2/m * xb.T.dot(xb.dot(theta)-y)\n",
    "    theta = theta - eta*gradients"
   ]
  },
  {
   "cell_type": "code",
   "execution_count": 50,
   "metadata": {},
   "outputs": [
    {
     "data": {
      "text/plain": [
       "array([[3.73308511],\n",
       "       [3.39571153]])"
      ]
     },
     "execution_count": 50,
     "metadata": {},
     "output_type": "execute_result"
    }
   ],
   "source": [
    "theta"
   ]
  },
  {
   "cell_type": "code",
   "execution_count": 51,
   "metadata": {},
   "outputs": [],
   "source": [
    "m=100\n",
    "x=6*np.random.rand(m,1)-3\n",
    "y = 0.5*x**2 + x+2 "
   ]
  },
  {
   "cell_type": "code",
   "execution_count": 52,
   "metadata": {},
   "outputs": [
    {
     "data": {
      "text/plain": [
       "[<matplotlib.lines.Line2D at 0x1e7a50c3198>]"
      ]
     },
     "execution_count": 52,
     "metadata": {},
     "output_type": "execute_result"
    },
    {
     "data": {
      "image/png": "[encoded data removed]",
      "text/plain": [
       "<Figure size 432x288 with 1 Axes>"
      ]
     },
     "metadata": {
      "needs_background": "light"
     },
     "output_type": "display_data"
    }
   ],
   "source": [
    "plt.plot(x,y)"
   ]
  },
  {
   "cell_type": "code",
   "execution_count": null,
   "metadata": {},
   "outputs": [],
   "source": [
    "vertosa, vertusa, virginica\n",
    "\n",
    "petal value, setle value"
   ]
  },
  {
   "cell_type": "code",
   "execution_count": 2,
   "metadata": {},
   "outputs": [],
   "source": [
    "\n",
    "import cv2\n",
    "face_cascade = cv2.CascadeClassifier(\"C:\\\\Users\\\\APSSDC\\\\Desktop\\\\haarcascade_frontalface_default.xml\")\n",
    "cap = cv2.VideoCapture(0)\n",
    "while True:\n",
    "    ret,img= cap.read() # ret return keyword mandotory\n",
    "    gray = cv2.cvtColor(img,cv2.COLOR_BGR2GRAY)\n",
    "    faces = face_cascade.detectMultiScale(gray,scaleFactor=1.1, minNeighbors=5)\n",
    "    \n",
    "    for (x,y,w,h) in faces:\n",
    "        cv2.rectangle(img,(x,y),(x+w,y+h),(255,255,0),2) # 255,255,0--BRG, box_thickmness-2\n",
    "        cv2.imwrite(\"myimage1111.jpg\",img)\n",
    "        cv2.imshow(\"img33\",img)\n",
    "    \n",
    "    k=cv2.waitKey(30) & 0xff\n",
    "    if k == 27 :\n",
    "        break\n",
    "cap.release()\n",
    "cv2.destroyAllWindows()"
   ]
  },
  {
   "cell_type": "code",
   "execution_count": 2,
   "metadata": {},
   "outputs": [
    {
     "data": {
      "text/plain": [
       "['__add__',\n",
       " '__class__',\n",
       " '__contains__',\n",
       " '__delattr__',\n",
       " '__delitem__',\n",
       " '__dir__',\n",
       " '__doc__',\n",
       " '__eq__',\n",
       " '__format__',\n",
       " '__ge__',\n",
       " '__getattribute__',\n",
       " '__getitem__',\n",
       " '__gt__',\n",
       " '__hash__',\n",
       " '__iadd__',\n",
       " '__imul__',\n",
       " '__init__',\n",
       " '__init_subclass__',\n",
       " '__iter__',\n",
       " '__le__',\n",
       " '__len__',\n",
       " '__lt__',\n",
       " '__mul__',\n",
       " '__ne__',\n",
       " '__new__',\n",
       " '__reduce__',\n",
       " '__reduce_ex__',\n",
       " '__repr__',\n",
       " '__reversed__',\n",
       " '__rmul__',\n",
       " '__setattr__',\n",
       " '__setitem__',\n",
       " '__sizeof__',\n",
       " '__str__',\n",
       " '__subclasshook__',\n",
       " 'append',\n",
       " 'clear',\n",
       " 'copy',\n",
       " 'count',\n",
       " 'extend',\n",
       " 'index',\n",
       " 'insert',\n",
       " 'pop',\n",
       " 'remove',\n",
       " 'reverse',\n",
       " 'sort']"
      ]
     },
     "execution_count": 2,
     "metadata": {},
     "output_type": "execute_result"
    }
   ],
   "source": [
    "dir([])"
   ]
  },
  {
   "cell_type": "code",
   "execution_count": 10,
   "metadata": {},
   "outputs": [
    {
     "data": {
      "text/plain": [
       "[7, 4, 3, 2]"
      ]
     },
     "execution_count": 10,
     "metadata": {},
     "output_type": "execute_result"
    }
   ],
   "source": [
    "l =[7,2,3,4]\n",
    "sorted(l,reverse=True)"
   ]
  },
  {
   "cell_type": "code",
   "execution_count": null,
   "metadata": {},
   "outputs": [],
   "source": [
    "n=int(input())\n",
    "s=\"\"\n",
    "for i in range(n):\n",
    "    s+="
   ]
  }
 ],
 "metadata": {
  "kernelspec": {
   "display_name": "Python 3",
   "language": "python",
   "name": "python3"
  },
  "language_info": {
   "codemirror_mode": {
    "name": "ipython",
    "version": 3
   },
   "file_extension": ".py",
   "mimetype": "text/x-python",
   "name": "python",
   "nbconvert_exporter": "python",
   "pygments_lexer": "ipython3",
   "version": "3.7.3"
  }
 },
 "nbformat": 4,
 "nbformat_minor": 2
}
